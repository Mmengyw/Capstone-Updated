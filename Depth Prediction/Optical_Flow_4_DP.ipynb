{
  "cells": [
    {
      "cell_type": "markdown",
      "metadata": {
        "id": "view-in-github",
        "colab_type": "text"
      },
      "source": [
        "<a href=\"https://colab.research.google.com/github/Mmengyw/Capstone-Updated/blob/main/Depth%20Prediction/Optical_Flow_4_DP.ipynb\" target=\"_parent\"><img src=\"https://colab.research.google.com/assets/colab-badge.svg\" alt=\"Open In Colab\"/></a>"
      ]
    },
    {
      "cell_type": "markdown",
      "metadata": {
        "id": "KbrsrGC7BWoS"
      },
      "source": [
        "**Importation**"
      ]
    },
    {
      "cell_type": "code",
      "execution_count": 1,
      "metadata": {
        "id": "L1DjVoW9BXaC"
      },
      "outputs": [],
      "source": [
        "import cv2 as cv\n",
        "import numpy as np\n",
        "from google.colab.patches import cv2_imshow\n",
        "import os\n",
        "#os.chdir(\"/Users/dagu/Downloads/Zendar/Code Depth Improvement\")"
      ]
    },
    {
      "cell_type": "code",
      "execution_count": 2,
      "metadata": {
        "colab": {
          "base_uri": "https://localhost:8080/"
        },
        "id": "_Uww0-Rrl9pE",
        "outputId": "584f1ebe-2cfb-4a56-997f-6c82fa8cfecc"
      },
      "outputs": [
        {
          "output_type": "stream",
          "name": "stdout",
          "text": [
            "Cloning into 'Capstone-Updated'...\n",
            "remote: Enumerating objects: 138, done.\u001b[K\n",
            "remote: Counting objects: 100% (120/120), done.\u001b[K\n",
            "remote: Compressing objects: 100% (113/113), done.\u001b[K\n",
            "remote: Total 138 (delta 64), reused 14 (delta 5), pack-reused 18\u001b[K\n",
            "Receiving objects: 100% (138/138), 105.87 MiB | 14.60 MiB/s, done.\n",
            "Resolving deltas: 100% (65/65), done.\n",
            "Capstone-Updated  sample_data\n"
          ]
        }
      ],
      "source": [
        "!git clone https://github.com/Mmengyw/Capstone-Updated.git\n",
        "!ls\n",
        "os.chdir(\"Capstone-Updated/Videos\")"
      ]
    },
    {
      "cell_type": "markdown",
      "metadata": {
        "id": "TCrQ5tWoAZ8r"
      },
      "source": [
        "**calcOpticalFlowPyrLK() function**\n",
        "\n",
        "Arguments\n",
        "*   old_gray : old frame array\n",
        "* gray_frame : current frame\n",
        "* old_point : array with old point\n",
        "* None : empy param\n",
        "* **lk_params : some configuration about the function\n",
        "\n"
      ]
    },
    {
      "cell_type": "code",
      "execution_count": 4,
      "metadata": {
        "colab": {
          "base_uri": "https://localhost:8080/",
          "height": 240
        },
        "id": "fCkO2UByBQ-6",
        "outputId": "b9fd223d-bfd1-4733-c4cf-790af8b45c34"
      },
      "outputs": [
        {
          "output_type": "error",
          "ename": "KeyboardInterrupt",
          "evalue": "ignored",
          "traceback": [
            "\u001b[0;31m---------------------------------------------------------------------------\u001b[0m",
            "\u001b[0;31mKeyboardInterrupt\u001b[0m                         Traceback (most recent call last)",
            "\u001b[0;32m<ipython-input-4-cdbc91a7692b>\u001b[0m in \u001b[0;36m<module>\u001b[0;34m()\u001b[0m\n\u001b[1;32m     14\u001b[0m         \u001b[0;32mbreak\u001b[0m\u001b[0;34m\u001b[0m\u001b[0;34m\u001b[0m\u001b[0m\n\u001b[1;32m     15\u001b[0m     \u001b[0mnext\u001b[0m \u001b[0;34m=\u001b[0m \u001b[0mcv\u001b[0m\u001b[0;34m.\u001b[0m\u001b[0mcvtColor\u001b[0m\u001b[0;34m(\u001b[0m\u001b[0mframe2\u001b[0m\u001b[0;34m,\u001b[0m \u001b[0mcv\u001b[0m\u001b[0;34m.\u001b[0m\u001b[0mCOLOR_BGR2GRAY\u001b[0m\u001b[0;34m)\u001b[0m\u001b[0;34m\u001b[0m\u001b[0;34m\u001b[0m\u001b[0m\n\u001b[0;32m---> 16\u001b[0;31m     \u001b[0mflow\u001b[0m \u001b[0;34m=\u001b[0m \u001b[0mcv\u001b[0m\u001b[0;34m.\u001b[0m\u001b[0mcalcOpticalFlowFarneback\u001b[0m\u001b[0;34m(\u001b[0m\u001b[0mprvs\u001b[0m\u001b[0;34m,\u001b[0m \u001b[0mnext\u001b[0m\u001b[0;34m,\u001b[0m \u001b[0;32mNone\u001b[0m\u001b[0;34m,\u001b[0m \u001b[0;36m0.5\u001b[0m\u001b[0;34m,\u001b[0m \u001b[0;36m3\u001b[0m\u001b[0;34m,\u001b[0m \u001b[0;36m15\u001b[0m\u001b[0;34m,\u001b[0m \u001b[0;36m3\u001b[0m\u001b[0;34m,\u001b[0m \u001b[0;36m5\u001b[0m\u001b[0;34m,\u001b[0m \u001b[0;36m1.2\u001b[0m\u001b[0;34m,\u001b[0m \u001b[0;36m0\u001b[0m\u001b[0;34m)\u001b[0m\u001b[0;34m\u001b[0m\u001b[0;34m\u001b[0m\u001b[0m\n\u001b[0m\u001b[1;32m     17\u001b[0m     \u001b[0mmag\u001b[0m\u001b[0;34m,\u001b[0m \u001b[0mang\u001b[0m \u001b[0;34m=\u001b[0m \u001b[0mcv\u001b[0m\u001b[0;34m.\u001b[0m\u001b[0mcartToPolar\u001b[0m\u001b[0;34m(\u001b[0m\u001b[0mflow\u001b[0m\u001b[0;34m[\u001b[0m\u001b[0;34m...\u001b[0m\u001b[0;34m,\u001b[0m \u001b[0;36m0\u001b[0m\u001b[0;34m]\u001b[0m\u001b[0;34m,\u001b[0m \u001b[0mflow\u001b[0m\u001b[0;34m[\u001b[0m\u001b[0;34m...\u001b[0m\u001b[0;34m,\u001b[0m \u001b[0;36m1\u001b[0m\u001b[0;34m]\u001b[0m\u001b[0;34m)\u001b[0m\u001b[0;34m\u001b[0m\u001b[0;34m\u001b[0m\u001b[0m\n\u001b[1;32m     18\u001b[0m     \u001b[0mhsv\u001b[0m\u001b[0;34m[\u001b[0m\u001b[0;34m...\u001b[0m\u001b[0;34m,\u001b[0m \u001b[0;36m0\u001b[0m\u001b[0;34m]\u001b[0m \u001b[0;34m=\u001b[0m \u001b[0mang\u001b[0m\u001b[0;34m*\u001b[0m\u001b[0;36m180\u001b[0m\u001b[0;34m/\u001b[0m\u001b[0mnp\u001b[0m\u001b[0;34m.\u001b[0m\u001b[0mpi\u001b[0m\u001b[0;34m/\u001b[0m\u001b[0;36m2\u001b[0m\u001b[0;34m\u001b[0m\u001b[0;34m\u001b[0m\u001b[0m\n",
            "\u001b[0;31mKeyboardInterrupt\u001b[0m: "
          ]
        }
      ],
      "source": [
        "cap = cv2.VideoCapture(0)\n",
        "\n",
        "import numpy as np\n",
        "import cv2 as cv\n",
        "cap = cv.VideoCapture(cv.samples.findFile(\"test12.mp4\"))\n",
        "ret, frame1 = cap.read()\n",
        "prvs = cv.cvtColor(frame1, cv.COLOR_BGR2GRAY)\n",
        "hsv = np.zeros_like(frame1)\n",
        "hsv[..., 1] = 255\n",
        "while(1):\n",
        "    ret, frame2 = cap.read()\n",
        "    if not ret:\n",
        "        print('No frames grabbed!')\n",
        "        break\n",
        "    next = cv.cvtColor(frame2, cv.COLOR_BGR2GRAY)\n",
        "    flow = cv.calcOpticalFlowFarneback(prvs, next, None, 0.5, 3, 15, 3, 5, 1.2, 0)\n",
        "    mag, ang = cv.cartToPolar(flow[..., 0], flow[..., 1])\n",
        "    hsv[..., 0] = ang*180/np.pi/2\n",
        "    hsv[..., 2] = cv.normalize(mag, None, 0, 255, cv.NORM_MINMAX)\n",
        "    bgr = cv.cvtColor(hsv, cv.COLOR_HSV2BGR)\n",
        "    #cv2_imshow(bgr)\n",
        "    k = cv.waitKey(30) & 0xff\n",
        "    if k == 27:\n",
        "        break\n",
        "    elif k == ord('s'):\n",
        "        cv.imwrite('opticalfb.png', frame2)\n",
        "        cv.imwrite('opticalhsv.png', bgr)\n",
        "    prvs = next\n",
        "print(bgr)\n",
        "print(hsv)\n",
        "\n",
        "cap.release()\n",
        "cv2.destroyAllWindows()"
      ]
    },
    {
      "cell_type": "code",
      "source": [
        "# The video feed is read in as a VideoCapture object\n",
        "cap = cv.VideoCapture(\"test12.mp4\")\n",
        "# ret = a boolean return value from getting the frame, first_frame = the first frame in the entire video sequence\n",
        "ret, first_frame = cap.read()\n",
        "# Converts frame to grayscale because we only need the luminance channel for detecting edges - less computationally expensive\n",
        "prev_gray = cv.cvtColor(first_frame, cv.COLOR_BGR2GRAY)\n",
        "# Creates an image filled with zero intensities with the same dimensions as the frame\n",
        "mask = np.zeros_like(first_frame)\n",
        "# Sets image saturation to maximum\n",
        "mask[..., 1] = 255\n",
        "#print(mask)\n",
        "#intializing the flow\n",
        "gray = cv.cvtColor(first_frame, cv.COLOR_BGR2GRAY)\n",
        "flow = cv.calcOpticalFlowFarneback(prev_gray, gray, None, 0.5, 3, 15, 3, 5, 1.2, 0)\n",
        "\n",
        "#dimensions of the frame and number of frames\n",
        "nb_row, nb_col, prout = np.shape(first_frame)\n",
        "frame_count = int(cap.get(cv.CAP_PROP_FRAME_COUNT))\n",
        "print(nb_row, nb_col,frame_count)\n",
        "#Array of the movement of each pixels for each frame across time\n",
        "#Mov_pix_optflow = np.zeros((frame_count, nb_row, nb_col, 2))\n",
        "\n",
        "while(cap.isOpened()):\n",
        "    # ret = a boolean return value from getting the frame, frame = the current frame being projected in the video\n",
        "    ret, frame = cap.read()\n",
        "\n",
        "    # Opens a new wqqindow and displays the input frame\n",
        "    #cv2_imshow(frame)\n",
        "\n",
        "    # Converts each frame to grayscale - we previously only converted the first frame to grayscale\n",
        "    gray = cv.cvtColor(frame, cv.COLOR_BGR2GRAY)\n",
        "\n",
        "    # Calculates dense optical flow by Farneback method\n",
        "    # https://docs.opencv.org/3.0-beta/modules/video/doc/motion_analysis_and_object_tracking.html#calcopticalflowfarneback\n",
        "    flow = cv.calcOpticalFlowFarneback(prev=prev_gray,\n",
        "                                      next=gray, flow=flow,\n",
        "                                      pyr_scale=0.5, levels=3, winsize=15,\n",
        "                                      iterations=3, poly_n=5, poly_sigma=1.2,\n",
        "                                      flags=0)\n",
        "    #flow = cv.calcOpticalFlowFarneback(prev_gray, gray, None, 0.5, 3, 15, 3, 5, 1.2, 0)\n",
        "    #print(flow)\n",
        "    # Computes the magnitude and angle of the 2D vectors\n",
        "    magnitude, angle = cv.cartToPolar(flow[..., 0], flow[..., 1])\n",
        "\n",
        "    # Computes the dx and dy of the 2D vectors\n",
        "    dx=magnitude*np.cos(angle)\n",
        "    dy=magnitude*np.sin(angle)\n",
        "    #print('dx=',dx)\n",
        "    #print('dy=',dy)\n",
        "\n",
        "    Mov_pix_optflow.append()\n",
        "\n",
        "\n",
        "    # Sets image hue according to the optical flow direction\n",
        "    #mask[..., 0] = angle * 180 / np.pi / 2\n",
        "\n",
        "    # Sets image value according to the optical flow magnitude (normalized)\n",
        "    #mask[..., 2] = cv.normalize(magnitude, None, 0, 255, cv.NORM_MINMAX)\n",
        "    print('STOP')\n",
        "\n",
        "    # Converts HSV to RGB (BGR) color representation\n",
        "    #rgb = cv.cvtColor(mask, cv.COLOR_HSV2BGR)\n",
        "\n",
        "    # Opens a new window and displays the output frame\n",
        "    #cv2_imshow(rgb)\n",
        "\n",
        "    # Updates previous frame\n",
        "    prev_gray = gray\n",
        "    # Frames are read by intervals of 1 millisecond. The programs breaks out of the while loop when the user presses the 'q' key\n",
        "    if cv.waitKey(1) & 0xFF == ord('q'):\n",
        "        break\n",
        "# The following frees up resources and closes all windows\n",
        "cap.release()\n",
        "cv.destroyAllWindows()\n",
        "\n",
        "'''\n",
        "dx= [[ 1.66647096e-09 -8.85083007e-10  2.69949951e-09 ...  9.02536690e-01\n",
        "   6.76709056e-01  4.62470412e-01]\n",
        " ...\n",
        " [ 3.59032420e-04  9.28807654e-04  1.61183486e-03 ...  7.55291879e-02\n",
        "   5.46804480e-02  5.34909889e-02]]\n",
        "\n",
        "\n",
        "dy= [[ 4.8883432e-11  2.3772040e-10  5.1093835e-10 ...  1.9181054e+00\n",
        "   1.4482435e+00  9.5387548e-01]\n",
        " ...\n",
        " [-1.3773385e-04 -1.4980065e-04 -1.4452441e-04 ...  1.2933868e-01\n",
        "   8.1860811e-02  3.5035118e-02]]\n",
        "\n",
        "max = order of 10 pixels\n",
        "min = 0\n",
        "   '''"
      ],
      "metadata": {
        "colab": {
          "base_uri": "https://localhost:8080/"
        },
        "id": "jGw2vVCdng-U",
        "outputId": "c2849c2f-c134-45a2-baaf-b10ebfb17f01"
      },
      "execution_count": null,
      "outputs": [
        {
          "output_type": "stream",
          "name": "stdout",
          "text": [
            "1240 1616 3910\n"
          ]
        }
      ]
    },
    {
      "cell_type": "code",
      "source": [
        "\n",
        "#coordinates of a pixel (u,v), dimension=pixel\n",
        "#coordinates of a reel point in space (x,y,z), dimension=meter\n",
        "\n",
        "\n",
        "#working on frame_k and frame_k1\n",
        "\n",
        "##Optical flow processing\n",
        "def convert_Optfl(Optfl_map):\n",
        "    du=magni*np.cos(angle)\n",
        "    dv=magni*np.cos(angle)\n",
        "    return #array= [[du,dv]] for each pixel\n",
        "Optfl_map=#optical flow (magnitude and angle) (arg=frame_k, frame_k1)\n",
        "Optfl_map=convert_Optfl(Optfl_map)#optical flow map in terms of du, dv for each pixel \n",
        "\n",
        "depth_map_k=#put the depth_map from midas (z)\n",
        "Pos_map_k=#pinhole map with the depth map k: (x,y,z) # position (x,y,z) for each pixels of frame k\n",
        "\n",
        "\n",
        "\n",
        "\n",
        "depth_map_k1=#put the depth_map from midas (z) for the next frame\n",
        "interpol_depth_map_k1= #f(depth_map_k1)\n",
        "\n",
        "\n",
        "\n",
        "\n",
        "\n",
        "\n",
        "\n",
        "\n",
        "\n",
        "\n",
        "\n",
        "def get_next_pos_midas(Pos_map_k,interpol_depth_map_k1,Optfl_map):\n",
        "    #need 2)\n",
        "    pos_next_frame_midas=np.zeros(N,M)  #position in meters of the next frame\n",
        "    Optfl_depth_map_k1=np.zeros(N,M)    # each pixel value is the next depth of the pixel\n",
        "    deplacement=np.zeros(N,M,3)        #dx,dy,dz in meters  \n",
        "\n",
        "    for v in range(0,N):\n",
        "        for u in range(0,M):   \n",
        "            du,dv = Optfl_map [v][u]\n",
        "            Optfl_depth_map_k1 [v][u] = interpol_depth_map_k1 [v+dv][u+du] # each pixel value is the next depth of the pixel\n",
        "            z1 = Optfl_depth_map_k1 [v][u]  #ref k+1\n",
        "\n",
        "            x,y,z = Pos_map_k [v][u]    #ref k\n",
        "            xrefk1,yrefk1,zrefk1 = #utiliser la matrice de tranformation de la voiture\n",
        "            x1,y1 = #fonction pinhole([v+dv][u+du]) #ref k1\n",
        "\n",
        "            deplacement [v][u] = [x1-xrefk1, y1-yrefk1, z1-zrefk1]\n",
        "            pos_next_frame_midas [v][u] = [x1,y1,z1]\n",
        "\n",
        "    return (pos_next_frame_midas,deplacement)#deplacement dx.dy,dz in meters for each pixel\n",
        "\n",
        "Pos_map_k1_midas, deplacement_k=get_next_pos_midas(Pos_map_k,interpol_depth_map_k1,Optfl_map)"
      ],
      "metadata": {
        "id": "jmc-kPyBxl6h"
      },
      "execution_count": null,
      "outputs": []
    }
  ],
  "metadata": {
    "colab": {
      "name": "Optical_Flow_4_DP.ipynb",
      "provenance": [],
      "collapsed_sections": [],
      "authorship_tag": "ABX9TyP6gBXbAJRl8ybmLd4RmGqi",
      "include_colab_link": true
    },
    "kernelspec": {
      "display_name": "Python 3",
      "name": "python3"
    },
    "language_info": {
      "name": "python"
    }
  },
  "nbformat": 4,
  "nbformat_minor": 0
}